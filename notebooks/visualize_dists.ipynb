{
 "cells": [
  {
   "cell_type": "code",
   "execution_count": 1,
   "metadata": {},
   "outputs": [],
   "source": [
    "from pathlib import Path\n",
    "import sys\n",
    "root = Path.cwd().parent\n",
    "sys.path.append(str(root))\n",
    "\n",
    "import networkx as nx\n",
    "import numpy as np\n",
    "import pandas as pd\n",
    "import matplotlib.pyplot as plt\n",
    "from IPython.display import display, HTML\n",
    "\n",
    "import pytest\n",
    "from tqdm import tqdm\n",
    "from dbca.datasets.relational import make_generated_story, RelationalSample\n",
    "from dbca.sample_set import SampleSet\n",
    "from dbca.dist_funcs import chernoff_divergence\n",
    "from dbca.freq_distribution import FrequencyDistribution\n",
    "from dbca.dbca_splitter import DBCASplitter, DBCASplitterConfig\n",
    "\n",
    "from dbca.datasets.relational.utils import get_samples"
   ]
  },
  {
   "cell_type": "code",
   "execution_count": 2,
   "metadata": {},
   "outputs": [
    {
     "name": "stdout",
     "output_type": "stream",
     "text": [
      "atoms (5):  ['3', '+', '3', '/', '1']\n",
      "compounds (9):  [/_+, +_3, /_1, /_+_3, /_+_1, +_3_3, /_+_3_3, /_+_3_1, /_+_3_3_1]\n"
     ]
    },
    {
     "data": {
      "image/png": "[encoded data removed]",
      "text/plain": [
       "<Figure size 432x288 with 1 Axes>"
      ]
     },
     "metadata": {},
     "output_type": "display_data"
    }
   ],
   "source": [
    "from dbca.datasets.relational import RelationalSample\n",
    "def sample2graph(expr, heads):\n",
    "    g = nx.DiGraph()\n",
    "    g.add_nodes_from([(i, {'sym': x}) for i, x in enumerate(expr) if x not in '()'])\n",
    "    for i, h in enumerate(heads):\n",
    "        if h == -1 or expr[i] in '()':\n",
    "            continue\n",
    "        direction = 'L' if i < h else 'R'\n",
    "        g.add_edge(h, i, dir=direction)\n",
    "    return g\n",
    "\n",
    "# expr = '1/(4+3)'\n",
    "# heads = [1, -1, 4, 4, 1, 4, 4]\n",
    "\n",
    "expr = '(3+3)/1'\n",
    "heads = [2, 2, 5, 2, 2, -1, 5]\n",
    "\n",
    "# expr = '3-4'\n",
    "# heads = [1, -1, 1]\n",
    "\n",
    "g = sample2graph(expr, heads)\n",
    "\n",
    "pos = nx.spring_layout(g)\n",
    "nx.draw(g, pos)\n",
    "node_labels = nx.get_node_attributes(g,'sym')\n",
    "nx.draw_networkx_labels(g, pos, labels = node_labels)\n",
    "edge_labels = nx.get_edge_attributes(g,'dir')\n",
    "nx.draw_networkx_edge_labels(g, pos, edge_labels)\n",
    "\n",
    "sample = RelationalSample(g, name='test')\n",
    "print(f'atoms ({len(sample.atoms)}): ', sorted(sample.atoms, key=lambda x: len(str(x))))\n",
    "print(f'compounds ({len(sample.compounds)}): ', sorted(sample.compounds, key=lambda x: len(str(x))))"
   ]
  },
  {
   "cell_type": "code",
   "execution_count": 16,
   "metadata": {},
   "outputs": [
    {
     "data": {
      "text/plain": [
       "dict_values(['3', '+', '3', '/', '1'])"
      ]
     },
     "execution_count": 16,
     "metadata": {},
     "output_type": "execute_result"
    }
   ],
   "source": [
    "nx.get_node_attributes(g, 'sym').values()"
   ]
  },
  {
   "cell_type": "markdown",
   "metadata": {},
   "source": [
    "So what do splits look like for various compound divergence settings? We'll start with a toy setting over small splits."
   ]
  },
  {
   "cell_type": "code",
   "execution_count": 2,
   "metadata": {},
   "outputs": [
    {
     "name": "stderr",
     "output_type": "stream",
     "text": [
      "100%|██████████████████████████████████████| 1000/1000 [00:01<00:00, 909.79it/s]\n"
     ]
    }
   ],
   "source": [
    "SAMPLE_POOL_SIZE = 1000\n",
    "\n",
    "\n",
    "samples = get_samples(num_samples=SAMPLE_POOL_SIZE, seed=12345, num_entities=10, num_edges=5, fixed_scale=False)\n",
    "\n"
   ]
  },
  {
   "cell_type": "code",
   "execution_count": 63,
   "metadata": {},
   "outputs": [
    {
     "name": "stdout",
     "output_type": "stream",
     "text": [
      "DiGraph with 7 nodes and 5 edges s_0_KQmWLa4oLGSzVZGMKAnfYG {e3_e1, e5_e0, e2_e7, e5_e8, e5_e3_e1, e5_e3}\n"
     ]
    },
    {
     "data": {
      "image/png": "[encoded data removed]",
      "text/plain": [
       "<Figure size 432x288 with 1 Axes>"
      ]
     },
     "metadata": {},
     "output_type": "display_data"
    }
   ],
   "source": [
    "s = samples[0]\n",
    "s.visualize()\n",
    "print(s.G, s.id, s.compounds)"
   ]
  },
  {
   "cell_type": "code",
   "execution_count": 3,
   "metadata": {
    "tags": []
   },
   "outputs": [
    {
     "name": "stderr",
     "output_type": "stream",
     "text": [
      "INFO:dbca.storage:Loading samples into storage...\n",
      "100%|█████████████████████████████████████| 1000/1000 [00:00<00:00, 1050.49it/s]\n",
      "INFO:dbca.storage:Done!\n",
      "INFO:dbca.full_sample_set:Loading 1000 samples...\n",
      "100%|████████████████████████████████████| 1000/1000 [00:00<00:00, 12209.71it/s]\n",
      "INFO:dbca.full_sample_set:Computing weight for all 945 compounds...\n",
      "100%|███████████████████████████████████████| 945/945 [00:00<00:00, 1948.51it/s]\n",
      "INFO:dbca.full_sample_set:Keeping 945/945 highest weighted compounds.\n",
      "INFO:dbca.dbca_splitter:Creating output directory at test_reg...\n",
      "INFO:dbca.dbca_splitter:Choosing random first sample: s_436_5MH5hJ8qWKcb8SAiFcbVDn...\n",
      "INFO:dbca.dbca_splitter:Starting to create splits...\n",
      "100%|███████████████████████████████████████████| 99/99 [00:26<00:00,  3.78it/s]\n",
      "INFO:dbca.dbca_splitter:Finished creating dataset!\n",
      "INFO:dbca.dbca_splitter:Train set size: 50, test set size: 50\n",
      "INFO:dbca.dbca_splitter:D_A: 0.010327269461981814, D_C: 0.9657044792983216\n",
      "INFO:dbca.dbca_splitter:Saving to test_reg...\n",
      "INFO:dbca.dbca_splitter:Done!\n"
     ]
    }
   ],
   "source": [
    "cfg_1 = DBCASplitterConfig(d_a=0.02, d_c=1.0, pool_size=SAMPLE_POOL_SIZE, n_train=50, n_test=50, save_dir=\"test_reg\", verbose=False)\n",
    "spg = DBCASplitter(samples, cfg_1)\n",
    "spg.generate_splits()\n"
   ]
  },
  {
   "cell_type": "code",
   "execution_count": 4,
   "metadata": {},
   "outputs": [
    {
     "data": {
      "image/png": "[encoded data removed]",
      "text/plain": [
       "<Figure size 432x288 with 1 Axes>"
      ]
     },
     "metadata": {
      "needs_background": "light"
     },
     "output_type": "display_data"
    },
    {
     "data": {
      "text/plain": [
       "<module 'matplotlib.pyplot' from '/home/qing/.virtualenvs/hint/lib/python3.8/site-packages/matplotlib/pyplot.py'>"
      ]
     },
     "execution_count": 4,
     "metadata": {},
     "output_type": "execute_result"
    }
   ],
   "source": [
    "spg.visualize_dists('atom')"
   ]
  },
  {
   "cell_type": "code",
   "execution_count": 5,
   "metadata": {},
   "outputs": [
    {
     "data": {
      "image/png": "[encoded data removed]",
      "text/plain": [
       "<Figure size 432x288 with 1 Axes>"
      ]
     },
     "metadata": {
      "needs_background": "light"
     },
     "output_type": "display_data"
    },
    {
     "data": {
      "text/plain": [
       "<module 'matplotlib.pyplot' from '/home/qing/.virtualenvs/hint/lib/python3.8/site-packages/matplotlib/pyplot.py'>"
      ]
     },
     "execution_count": 5,
     "metadata": {},
     "output_type": "execute_result"
    }
   ],
   "source": [
    "spg.visualize_dists('compound')"
   ]
  },
  {
   "cell_type": "code",
   "execution_count": 6,
   "metadata": {
    "tags": []
   },
   "outputs": [
    {
     "name": "stderr",
     "output_type": "stream",
     "text": [
      "INFO:dbca.config:Setting logging level to 20\n",
      "INFO:dbca.storage:Loading samples into storage...\n",
      "100%|██████████| 1000/1000 [00:00<00:00, 15305.67it/s]\n",
      "INFO:dbca.storage:Done!\n",
      "INFO:dbca.full_sample_set:Loading 1000 samples...\n",
      "100%|██████████| 1000/1000 [00:00<00:00, 14312.83it/s]\n",
      "INFO:dbca.full_sample_set:Computing weight for all 945 compounds...\n",
      "100%|██████████| 945/945 [00:01<00:00, 577.31it/s]\n",
      "INFO:dbca.full_sample_set:Keeping 945/945 highest weighted compounds.\n",
      "INFO:dbca.dbca_splitter:Creating output directory at test_reg_0.75...\n",
      "INFO:dbca.dbca_splitter:Choosing random first sample: s_942_YFWoRWcSovmYKq3XZe2c4C...\n",
      "INFO:dbca.dbca_splitter:Starting to create splits...\n",
      "100%|██████████| 99/99 [00:47<00:00,  2.09it/s]\n",
      "INFO:dbca.dbca_splitter:Finished creating dataset!\n",
      "INFO:dbca.dbca_splitter:Train set size: 50, test set size: 50\n",
      "INFO:dbca.dbca_splitter:D_A: 0.006948174409679098, D_C: 0.7499391979313477\n",
      "INFO:dbca.dbca_splitter:Saving to test_reg_0.75...\n",
      "INFO:dbca.dbca_splitter:Done!\n"
     ]
    }
   ],
   "source": [
    "D_C = 0.75\n",
    "cfg_2 = DBCASplitterConfig(d_a=0.02, d_c=D_C, pool_size=SAMPLE_POOL_SIZE, n_train=50, n_test=50, save_dir=f\"test_reg_{D_C}\")\n",
    "spg = DBCASplitter(samples, cfg_2)\n",
    "spg.generate_splits()"
   ]
  },
  {
   "cell_type": "code",
   "execution_count": 7,
   "metadata": {},
   "outputs": [
    {
     "data": {
      "image/png": "[encoded data removed]",
      "text/plain": [
       "<Figure size 432x288 with 1 Axes>"
      ]
     },
     "metadata": {
      "needs_background": "light"
     },
     "output_type": "display_data"
    },
    {
     "data": {
      "text/plain": [
       "<module 'matplotlib.pyplot' from '/home/ronent/anaconda3/envs/dbca-splitter/lib/python3.7/site-packages/matplotlib/pyplot.py'>"
      ]
     },
     "execution_count": 7,
     "metadata": {},
     "output_type": "execute_result"
    }
   ],
   "source": [
    "spg.visualize_dists('atom')"
   ]
  },
  {
   "cell_type": "code",
   "execution_count": 8,
   "metadata": {},
   "outputs": [
    {
     "data": {
      "image/png": "[encoded data removed]",
      "text/plain": [
       "<Figure size 432x288 with 1 Axes>"
      ]
     },
     "metadata": {
      "needs_background": "light"
     },
     "output_type": "display_data"
    },
    {
     "data": {
      "text/plain": [
       "<module 'matplotlib.pyplot' from '/home/ronent/anaconda3/envs/dbca-splitter/lib/python3.7/site-packages/matplotlib/pyplot.py'>"
      ]
     },
     "execution_count": 8,
     "metadata": {},
     "output_type": "execute_result"
    }
   ],
   "source": [
    "spg.visualize_dists('compound')"
   ]
  },
  {
   "cell_type": "code",
   "execution_count": 9,
   "metadata": {
    "tags": []
   },
   "outputs": [
    {
     "name": "stderr",
     "output_type": "stream",
     "text": [
      "INFO:dbca.config:Setting logging level to 20\n",
      "INFO:dbca.storage:Loading samples into storage...\n",
      "100%|██████████| 1000/1000 [00:00<00:00, 2442.59it/s]\n",
      "INFO:dbca.storage:Done!\n",
      "INFO:dbca.full_sample_set:Loading 1000 samples...\n",
      "100%|██████████| 1000/1000 [00:00<00:00, 25726.56it/s]\n",
      "INFO:dbca.full_sample_set:Computing weight for all 945 compounds...\n",
      "100%|██████████| 945/945 [00:01<00:00, 574.81it/s]\n",
      "INFO:dbca.full_sample_set:Keeping 945/945 highest weighted compounds.\n",
      "INFO:dbca.dbca_splitter:Creating output directory at test_reg_0.5...\n",
      "INFO:dbca.dbca_splitter:Choosing random first sample: s_942_YFWoRWcSovmYKq3XZe2c4C...\n",
      "INFO:dbca.dbca_splitter:Starting to create splits...\n",
      "100%|██████████| 99/99 [00:48<00:00,  2.06it/s]\n",
      "INFO:dbca.dbca_splitter:Finished creating dataset!\n",
      "INFO:dbca.dbca_splitter:Train set size: 50, test set size: 50\n",
      "INFO:dbca.dbca_splitter:D_A: 0.0029161465607272508, D_C: 0.49999348033114865\n",
      "INFO:dbca.dbca_splitter:Saving to test_reg_0.5...\n",
      "INFO:dbca.dbca_splitter:Done!\n"
     ]
    }
   ],
   "source": [
    "D_C = 0.50\n",
    "cfg_2 = DBCASplitterConfig(d_a=0.02, d_c=D_C, pool_size=SAMPLE_POOL_SIZE, n_train=50, n_test=50, save_dir=f\"test_reg_{D_C}\")\n",
    "spg = DBCASplitter(samples, cfg_2)\n",
    "spg.generate_splits()"
   ]
  },
  {
   "cell_type": "code",
   "execution_count": 10,
   "metadata": {},
   "outputs": [
    {
     "data": {
      "image/png": "[encoded data removed]",
      "text/plain": [
       "<Figure size 432x288 with 1 Axes>"
      ]
     },
     "metadata": {
      "needs_background": "light"
     },
     "output_type": "display_data"
    },
    {
     "data": {
      "text/plain": [
       "<module 'matplotlib.pyplot' from '/home/ronent/anaconda3/envs/dbca-splitter/lib/python3.7/site-packages/matplotlib/pyplot.py'>"
      ]
     },
     "execution_count": 10,
     "metadata": {},
     "output_type": "execute_result"
    }
   ],
   "source": [
    "spg.visualize_dists('atom')"
   ]
  },
  {
   "cell_type": "code",
   "execution_count": 11,
   "metadata": {},
   "outputs": [
    {
     "data": {
      "image/png": "[encoded data removed]",
      "text/plain": [
       "<Figure size 432x288 with 1 Axes>"
      ]
     },
     "metadata": {
      "needs_background": "light"
     },
     "output_type": "display_data"
    },
    {
     "data": {
      "text/plain": [
       "<module 'matplotlib.pyplot' from '/home/ronent/anaconda3/envs/dbca-splitter/lib/python3.7/site-packages/matplotlib/pyplot.py'>"
      ]
     },
     "execution_count": 11,
     "metadata": {},
     "output_type": "execute_result"
    }
   ],
   "source": [
    "spg.visualize_dists('compound')"
   ]
  },
  {
   "cell_type": "code",
   "execution_count": 12,
   "metadata": {},
   "outputs": [
    {
     "name": "stderr",
     "output_type": "stream",
     "text": [
      "INFO:dbca.config:Setting logging level to 10\n",
      "INFO:dbca.storage:Loading samples into storage...\n",
      "100%|██████████| 1000/1000 [00:00<00:00, 40179.17it/s]\n",
      "INFO:dbca.storage:Done!\n",
      "INFO:dbca.full_sample_set:Loading 1000 samples...\n",
      "100%|██████████| 1000/1000 [00:00<00:00, 42676.22it/s]\n",
      "INFO:dbca.full_sample_set:Computing weight for all 945 compounds...\n",
      "100%|██████████| 945/945 [00:01<00:00, 649.77it/s]\n",
      "INFO:dbca.full_sample_set:Keeping 945/945 highest weighted compounds.\n",
      "INFO:dbca.dbca_splitter:Creating output directory at test_reg_0.25...\n",
      "INFO:dbca.dbca_splitter:Choosing random first sample: s_942_YFWoRWcSovmYKq3XZe2c4C...\n",
      "INFO:dbca.dbca_splitter:Starting to create splits...\n",
      "100%|██████████| 99/99 [00:40<00:00,  2.43it/s]\n",
      "INFO:dbca.dbca_splitter:Finished creating dataset!\n",
      "INFO:dbca.dbca_splitter:Train set size: 50, test set size: 50\n",
      "INFO:dbca.dbca_splitter:D_A: 0.0012673632398068069, D_C: 0.2499119802358074\n",
      "INFO:dbca.dbca_splitter:Saving to test_reg_0.25...\n",
      "INFO:dbca.dbca_splitter:Done!\n"
     ]
    }
   ],
   "source": [
    "D_C = 0.25\n",
    "cfg_2 = DBCASplitterConfig(d_a=0.02, d_c=D_C, pool_size=SAMPLE_POOL_SIZE, n_train=50, n_test=50, save_dir=f\"test_reg_{D_C}\", verbose=True)\n",
    "spg = DBCASplitter(samples, cfg_2)\n",
    "spg.generate_splits()"
   ]
  },
  {
   "cell_type": "code",
   "execution_count": 13,
   "metadata": {},
   "outputs": [
    {
     "data": {
      "image/png": "[encoded data removed]",
      "text/plain": [
       "<Figure size 432x288 with 1 Axes>"
      ]
     },
     "metadata": {
      "needs_background": "light"
     },
     "output_type": "display_data"
    },
    {
     "data": {
      "text/plain": [
       "<module 'matplotlib.pyplot' from '/home/ronent/anaconda3/envs/dbca-splitter/lib/python3.7/site-packages/matplotlib/pyplot.py'>"
      ]
     },
     "execution_count": 13,
     "metadata": {},
     "output_type": "execute_result"
    }
   ],
   "source": [
    "spg.visualize_dists('atom')"
   ]
  },
  {
   "cell_type": "code",
   "execution_count": 14,
   "metadata": {},
   "outputs": [
    {
     "data": {
      "image/png": "[encoded data removed]",
      "text/plain": [
       "<Figure size 432x288 with 1 Axes>"
      ]
     },
     "metadata": {
      "needs_background": "light"
     },
     "output_type": "display_data"
    },
    {
     "data": {
      "text/plain": [
       "<module 'matplotlib.pyplot' from '/home/ronent/anaconda3/envs/dbca-splitter/lib/python3.7/site-packages/matplotlib/pyplot.py'>"
      ]
     },
     "execution_count": 14,
     "metadata": {},
     "output_type": "execute_result"
    }
   ],
   "source": [
    "spg.visualize_dists('compound')"
   ]
  },
  {
   "cell_type": "code",
   "execution_count": 15,
   "metadata": {},
   "outputs": [
    {
     "name": "stderr",
     "output_type": "stream",
     "text": [
      "INFO:dbca.config:Setting logging level to 20\n",
      "INFO:dbca.storage:Loading samples into storage...\n",
      "100%|██████████| 1000/1000 [00:00<00:00, 8929.75it/s]\n",
      "INFO:dbca.storage:Done!\n",
      "INFO:dbca.full_sample_set:Loading 1000 samples...\n",
      "100%|██████████| 1000/1000 [00:00<00:00, 10793.95it/s]\n",
      "INFO:dbca.full_sample_set:Computing weight for all 945 compounds...\n",
      "100%|██████████| 945/945 [00:01<00:00, 554.68it/s]\n",
      "INFO:dbca.full_sample_set:Keeping 945/945 highest weighted compounds.\n",
      "INFO:dbca.dbca_splitter:Creating output directory at test_reg_0.1...\n",
      "INFO:dbca.dbca_splitter:Choosing random first sample: s_942_YFWoRWcSovmYKq3XZe2c4C...\n",
      "INFO:dbca.dbca_splitter:Starting to create splits...\n",
      "100%|██████████| 99/99 [01:01<00:00,  1.62it/s]\n",
      "INFO:dbca.dbca_splitter:Finished creating dataset!\n",
      "INFO:dbca.dbca_splitter:Train set size: 50, test set size: 50\n",
      "INFO:dbca.dbca_splitter:D_A: 0.00043044248944279495, D_C: 0.10000674330533965\n",
      "INFO:dbca.dbca_splitter:Saving to test_reg_0.1...\n",
      "INFO:dbca.dbca_splitter:Done!\n"
     ]
    }
   ],
   "source": [
    "D_C = 0.1\n",
    "cfg_2 = DBCASplitterConfig(d_a=0.02, d_c=D_C, pool_size=SAMPLE_POOL_SIZE, n_train=50, n_test=50, save_dir=f\"test_reg_{D_C}\", verbose=False)\n",
    "spg = DBCASplitter(samples, cfg_2)\n",
    "spg.generate_splits()"
   ]
  },
  {
   "cell_type": "code",
   "execution_count": 16,
   "metadata": {},
   "outputs": [
    {
     "data": {
      "image/png": "[encoded data removed]",
      "text/plain": [
       "<Figure size 432x288 with 1 Axes>"
      ]
     },
     "metadata": {
      "needs_background": "light"
     },
     "output_type": "display_data"
    },
    {
     "data": {
      "text/plain": [
       "<module 'matplotlib.pyplot' from '/home/ronent/anaconda3/envs/dbca-splitter/lib/python3.7/site-packages/matplotlib/pyplot.py'>"
      ]
     },
     "execution_count": 16,
     "metadata": {},
     "output_type": "execute_result"
    }
   ],
   "source": [
    "spg.visualize_dists('atom')"
   ]
  },
  {
   "cell_type": "code",
   "execution_count": 17,
   "metadata": {},
   "outputs": [
    {
     "data": {
      "image/png": "[encoded data removed]",
      "text/plain": [
       "<Figure size 432x288 with 1 Axes>"
      ]
     },
     "metadata": {
      "needs_background": "light"
     },
     "output_type": "display_data"
    },
    {
     "data": {
      "text/plain": [
       "<module 'matplotlib.pyplot' from '/home/ronent/anaconda3/envs/dbca-splitter/lib/python3.7/site-packages/matplotlib/pyplot.py'>"
      ]
     },
     "execution_count": 17,
     "metadata": {},
     "output_type": "execute_result"
    }
   ],
   "source": [
    "spg.visualize_dists('compound')"
   ]
  },
  {
   "cell_type": "code",
   "execution_count": 18,
   "metadata": {},
   "outputs": [
    {
     "name": "stderr",
     "output_type": "stream",
     "text": [
      "INFO:dbca.config:Setting logging level to 20\n",
      "INFO:dbca.storage:Loading samples into storage...\n",
      "100%|██████████| 1000/1000 [00:00<00:00, 13570.42it/s]\n",
      "INFO:dbca.storage:Done!\n",
      "INFO:dbca.full_sample_set:Loading 1000 samples...\n",
      "100%|██████████| 1000/1000 [00:00<00:00, 15987.13it/s]\n",
      "INFO:dbca.full_sample_set:Computing weight for all 945 compounds...\n",
      "100%|██████████| 945/945 [00:01<00:00, 528.73it/s]\n",
      "INFO:dbca.full_sample_set:Keeping 945/945 highest weighted compounds.\n",
      "INFO:dbca.dbca_splitter:Creating output directory at test_reg_0.02...\n",
      "INFO:dbca.dbca_splitter:Choosing random first sample: s_942_YFWoRWcSovmYKq3XZe2c4C...\n",
      "INFO:dbca.dbca_splitter:Starting to create splits...\n",
      "100%|██████████| 99/99 [00:37<00:00,  2.62it/s]\n",
      "INFO:dbca.dbca_splitter:Finished creating dataset!\n",
      "INFO:dbca.dbca_splitter:Train set size: 50, test set size: 50\n",
      "INFO:dbca.dbca_splitter:D_A: 0.0008307959236504292, D_C: 0.01970971807428057\n",
      "INFO:dbca.dbca_splitter:Saving to test_reg_0.02...\n",
      "INFO:dbca.dbca_splitter:Done!\n"
     ]
    }
   ],
   "source": [
    "D_C = 0.02\n",
    "cfg_2 = DBCASplitterConfig(d_a=0.02, d_c=D_C, pool_size=SAMPLE_POOL_SIZE, n_train=50, n_test=50, save_dir=f\"test_reg_{D_C}\", verbose=False)\n",
    "spg = DBCASplitter(samples, cfg_2)\n",
    "spg.generate_splits()"
   ]
  },
  {
   "cell_type": "code",
   "execution_count": 19,
   "metadata": {},
   "outputs": [
    {
     "data": {
      "image/png": "[encoded data removed]",
      "text/plain": [
       "<Figure size 432x288 with 1 Axes>"
      ]
     },
     "metadata": {
      "needs_background": "light"
     },
     "output_type": "display_data"
    },
    {
     "data": {
      "text/plain": [
       "<module 'matplotlib.pyplot' from '/home/ronent/anaconda3/envs/dbca-splitter/lib/python3.7/site-packages/matplotlib/pyplot.py'>"
      ]
     },
     "execution_count": 19,
     "metadata": {},
     "output_type": "execute_result"
    }
   ],
   "source": [
    "spg.visualize_dists('atom')"
   ]
  },
  {
   "cell_type": "code",
   "execution_count": 20,
   "metadata": {},
   "outputs": [
    {
     "data": {
      "image/png": "[encoded data removed]",
      "text/plain": [
       "<Figure size 432x288 with 1 Axes>"
      ]
     },
     "metadata": {
      "needs_background": "light"
     },
     "output_type": "display_data"
    },
    {
     "data": {
      "text/plain": [
       "<module 'matplotlib.pyplot' from '/home/ronent/anaconda3/envs/dbca-splitter/lib/python3.7/site-packages/matplotlib/pyplot.py'>"
      ]
     },
     "execution_count": 20,
     "metadata": {},
     "output_type": "execute_result"
    }
   ],
   "source": [
    "spg.visualize_dists('compound')"
   ]
  },
  {
   "cell_type": "code",
   "execution_count": null,
   "metadata": {},
   "outputs": [],
   "source": []
  }
 ],
 "metadata": {
  "kernelspec": {
   "display_name": "hint",
   "language": "python",
   "name": "hint"
  },
  "language_info": {
   "codemirror_mode": {
    "name": "ipython",
    "version": 3
   },
   "file_extension": ".py",
   "mimetype": "text/x-python",
   "name": "python",
   "nbconvert_exporter": "python",
   "pygments_lexer": "ipython3",
   "version": "3.8.5"
  }
 },
 "nbformat": 4,
 "nbformat_minor": 4
}
